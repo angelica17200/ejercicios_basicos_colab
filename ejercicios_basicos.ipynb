{
  "nbformat": 4,
  "nbformat_minor": 0,
  "metadata": {
    "colab": {
      "provenance": [],
      "authorship_tag": "ABX9TyP2kmFuMe/U059yGhLsbpRl",
      "include_colab_link": true
    },
    "kernelspec": {
      "name": "python3",
      "display_name": "Python 3"
    },
    "language_info": {
      "name": "python"
    }
  },
  "cells": [
    {
      "cell_type": "markdown",
      "metadata": {
        "id": "view-in-github",
        "colab_type": "text"
      },
      "source": [
        "<a href=\"https://colab.research.google.com/github/angelica17200/ejercicios_basicos_colab/blob/main/ejercicios_basicos.ipynb\" target=\"_parent\"><img src=\"https://colab.research.google.com/assets/colab-badge.svg\" alt=\"Open In Colab\"/></a>"
      ]
    },
    {
      "cell_type": "code",
      "execution_count": null,
      "metadata": {
        "id": "qznx2K4egmOz"
      },
      "outputs": [],
      "source": []
    },
    {
      "cell_type": "markdown",
      "source": [
        "#Ejerccio básicos Python \n",
        "1. suma de dos números \n",
        "2. potencia de un número \n"
      ],
      "metadata": {
        "id": "J3v1j11Lgozk"
      }
    },
    {
      "cell_type": "code",
      "source": [
        "# suma de dos números enteros\n",
        "\n",
        "print(\"--------------------------------\")\n",
        "print(\"------SUMA DE DOS ENTEROS-------\")\n",
        "print(\"--------------------------------\")\n",
        "\n",
        "#INPUT \n",
        "x = int(input(\"Digite el valor de x:\"))\n",
        "y = int (input(\"Digite el valor de y:\"))\n",
        "\n",
        "#PROCCESSING\n",
        "\n",
        "z= x+  y\n",
        "\n",
        "#OUTPUT\n",
        "print(\"La suma de \",x,\"+\",y,\" es \",z)"
      ],
      "metadata": {
        "id": "Yek3dxuWhAGr"
      },
      "execution_count": null,
      "outputs": []
    },
    {
      "cell_type": "code",
      "source": [
        "# potencia de un número \n",
        "\n",
        "print(\"--------------------------------\")\n",
        "print(\"-------------potencia-----------\")\n",
        "print(\"--------------------------------\")\n",
        "\n",
        "#input \n",
        "x = int(input(\"Digite el valor de x:\"))\n",
        "y = int (input(\"Digite el valor de y:\"))\n",
        "\n",
        "#PROCCESSING\n",
        "\n",
        "z= x**y\n",
        "\n",
        "# output \n",
        "print (x, \"elevado ala \", y, \" es \",z)\n",
        "\n"
      ],
      "metadata": {
        "colab": {
          "base_uri": "https://localhost:8080/"
        },
        "id": "wNls4FJYkcHX",
        "outputId": "8d51e084-f145-44be-c54e-fc7d99e73d56"
      },
      "execution_count": null,
      "outputs": [
        {
          "output_type": "stream",
          "name": "stdout",
          "text": [
            "--------------------------------\n",
            "-------------potencia-----------\n",
            "--------------------------------\n",
            "Digite el valor de x:2\n",
            "Digite el valor de y:10\n",
            "2 elevado ala  10  es  1024\n"
          ]
        }
      ]
    }
  ]
}